{
  "nbformat": 4,
  "nbformat_minor": 0,
  "metadata": {
    "colab": {
      "provenance": [],
      "authorship_tag": "ABX9TyPhG/ScfjeJr0ZMZC3zFyz2",
      "include_colab_link": true
    },
    "kernelspec": {
      "name": "python3",
      "display_name": "Python 3"
    },
    "language_info": {
      "name": "python"
    },
    "accelerator": "GPU",
    "gpuClass": "standard"
  },
  "cells": [
    {
      "cell_type": "markdown",
      "metadata": {
        "id": "view-in-github",
        "colab_type": "text"
      },
      "source": [
        "<a href=\"https://colab.research.google.com/github/NekTaf/AVDC_GDP_Cranfield_2023/blob/main/GDP_YOLOV8.ipynb\" target=\"_parent\"><img src=\"https://colab.research.google.com/assets/colab-badge.svg\" alt=\"Open In Colab\"/></a>"
      ]
    },
    {
      "cell_type": "code",
      "execution_count": null,
      "metadata": {
        "id": "4Bg9xRv2dE_-"
      },
      "outputs": [],
      "source": [
        "!nvidia-smi"
      ]
    },
    {
      "cell_type": "code",
      "source": [
        "%pip install ultralytics\n",
        "\n",
        "from ultralytics import YOLO\n",
        "import torch\n"
      ],
      "metadata": {
        "id": "ldxd02lNdtmw"
      },
      "execution_count": null,
      "outputs": []
    },
    {
      "cell_type": "code",
      "source": [
        "from google.colab import drive\n",
        "drive.mount('/content/drive')\n"
      ],
      "metadata": {
        "id": "HbZDqO9KfN5q"
      },
      "execution_count": null,
      "outputs": []
    },
    {
      "cell_type": "code",
      "source": [
        "!unzip drive/MyDrive/DATA/tesi.v3i.yolov8.zip "
      ],
      "metadata": {
        "id": "H3h4bpJn2CPn"
      },
      "execution_count": null,
      "outputs": []
    },
    {
      "cell_type": "code",
      "source": [
        "model = YOLO(\"yolov8n.yaml\")"
      ],
      "metadata": {
        "id": "U8yLnmy6eIVA"
      },
      "execution_count": null,
      "outputs": []
    },
    {
      "cell_type": "code",
      "source": [
        "torch.cuda.empty_cache()\n",
        "torch.no_grad\n",
        "\n",
        "model.train(data=\"/content/tesi.v3i.yolov8/data.yaml\", epochs=100, batch=48, imgsz=320, workers=2, cache=True)  # train the model"
      ],
      "metadata": {
        "colab": {
          "base_uri": "https://localhost:8080/"
        },
        "id": "jVGcPYz7eOOi",
        "outputId": "f7a4c964-4700-4a44-9efc-9d6d0eab6ee5"
      },
      "execution_count": null,
      "outputs": [
        {
          "output_type": "stream",
          "name": "stderr",
          "text": [
            "\u001b[34m\u001b[1mtrain: \u001b[0mCaching images (2.1GB True): 100%|██████████| 6996/6996 [00:48<00:00, 144.97it/s]\n",
            "\u001b[34m\u001b[1malbumentations: \u001b[0mBlur(p=0.01, blur_limit=(3, 7)), MedianBlur(p=0.01, blur_limit=(3, 7)), ToGray(p=0.01), CLAHE(p=0.01, clip_limit=(1, 4.0), tile_grid_size=(8, 8))\n",
            "\u001b[34m\u001b[1mval: \u001b[0mScanning /content/tesi.v3i.yolov8/valid/labels.cache... 1999 images, 130 backgrounds, 0 corrupt: 100%|██████████| 1999/1999 [00:00<?, ?it/s]\n",
            "\u001b[34m\u001b[1mval: \u001b[0mCaching images (0.6GB True): 100%|██████████| 1999/1999 [00:20<00:00, 98.20it/s] \n",
            "Plotting labels to runs/detect/train11/labels.jpg... \n",
            "Image sizes 320 train, 320 val\n",
            "Using 2 dataloader workers\n",
            "Logging results to \u001b[1mruns/detect/train11\u001b[0m\n",
            "Starting training for 100 epochs...\n",
            "\n",
            "      Epoch    GPU_mem   box_loss   cls_loss   dfl_loss  Instances       Size\n",
            "      1/100       3.9G      4.619      3.307       2.88        454        320: 100%|██████████| 146/146 [01:20<00:00,  1.81it/s]\n",
            "                 Class     Images  Instances      Box(P          R      mAP50  mAP50-95): 100%|██████████| 21/21 [00:12<00:00,  1.71it/s]\n",
            "                   all       1999      18671      0.153     0.0882     0.0405     0.0117\n",
            "\n",
            "      Epoch    GPU_mem   box_loss   cls_loss   dfl_loss  Instances       Size\n",
            "      2/100      7.91G      2.869      1.934      1.602        454        320: 100%|██████████| 146/146 [01:11<00:00,  2.04it/s]\n",
            "                 Class     Images  Instances      Box(P          R      mAP50  mAP50-95): 100%|██████████| 21/21 [00:12<00:00,  1.62it/s]\n",
            "                   all       1999      18671      0.429      0.273      0.257      0.112\n",
            "\n",
            "      Epoch    GPU_mem   box_loss   cls_loss   dfl_loss  Instances       Size\n",
            "      3/100      7.91G      2.279       1.47       1.34        402        320: 100%|██████████| 146/146 [01:12<00:00,  2.02it/s]\n",
            "                 Class     Images  Instances      Box(P          R      mAP50  mAP50-95): 100%|██████████| 21/21 [00:13<00:00,  1.54it/s]\n",
            "                   all       1999      18671      0.593      0.353       0.38      0.175\n",
            "\n",
            "      Epoch    GPU_mem   box_loss   cls_loss   dfl_loss  Instances       Size\n",
            "      4/100      7.91G      2.009       1.25      1.234        333        320: 100%|██████████| 146/146 [01:11<00:00,  2.05it/s]\n",
            "                 Class     Images  Instances      Box(P          R      mAP50  mAP50-95): 100%|██████████| 21/21 [00:13<00:00,  1.57it/s]\n",
            "                   all       1999      18671      0.658      0.412      0.453      0.221\n",
            "\n",
            "      Epoch    GPU_mem   box_loss   cls_loss   dfl_loss  Instances       Size\n",
            "      5/100      7.91G      1.857      1.125      1.176        465        320: 100%|██████████| 146/146 [01:11<00:00,  2.05it/s]\n",
            "                 Class     Images  Instances      Box(P          R      mAP50  mAP50-95): 100%|██████████| 21/21 [00:12<00:00,  1.62it/s]\n",
            "                   all       1999      18671      0.706      0.433      0.509       0.26\n",
            "\n",
            "      Epoch    GPU_mem   box_loss   cls_loss   dfl_loss  Instances       Size\n",
            "      6/100      7.91G      1.774      1.056      1.144        533        320: 100%|██████████| 146/146 [01:12<00:00,  2.01it/s]\n",
            "                 Class     Images  Instances      Box(P          R      mAP50  mAP50-95): 100%|██████████| 21/21 [00:13<00:00,  1.60it/s]\n",
            "                   all       1999      18671       0.72      0.467      0.534      0.275\n",
            "\n",
            "      Epoch    GPU_mem   box_loss   cls_loss   dfl_loss  Instances       Size\n",
            "      7/100      7.91G      1.697      1.002      1.119        378        320: 100%|██████████| 146/146 [01:12<00:00,  2.02it/s]\n",
            "                 Class     Images  Instances      Box(P          R      mAP50  mAP50-95): 100%|██████████| 21/21 [00:13<00:00,  1.59it/s]\n",
            "                   all       1999      18671      0.751       0.49      0.562      0.291\n",
            "\n",
            "      Epoch    GPU_mem   box_loss   cls_loss   dfl_loss  Instances       Size\n",
            "      8/100      7.91G      1.659     0.9627      1.104        673        320: 100%|██████████| 146/146 [01:11<00:00,  2.05it/s]\n",
            "                 Class     Images  Instances      Box(P          R      mAP50  mAP50-95): 100%|██████████| 21/21 [00:13<00:00,  1.59it/s]\n",
            "                   all       1999      18671      0.744       0.52      0.603      0.317\n",
            "\n",
            "      Epoch    GPU_mem   box_loss   cls_loss   dfl_loss  Instances       Size\n",
            "      9/100      7.91G      1.642     0.9449      1.092        592        320:  29%|██▉       | 43/146 [00:24<01:10,  1.45it/s]"
          ]
        }
      ]
    }
  ]
}